{
 "cells": [
  {
   "cell_type": "markdown",
   "metadata": {},
   "source": [
    "# Generative Adversarial Networks\n",
    "\n",
    "In this tutorial, we will cover a simple example of a Generative Adversarial Network (GAN), where the goal is to create syntheic digits images from uniform random noise input.\n",
    "\n",
    "The learning goals of this tutorial are:\n",
    "- Introduce GANs using a simple example;\n",
    "- Illustrate how to define a simple GAN using TensorFlow and Keras.\n"
   ]
  },
  {
   "cell_type": "code",
   "execution_count": 1,
   "metadata": {},
   "outputs": [],
   "source": [
    "%matplotlib inline\n",
    "import matplotlib.pylab as plt\n",
    "import numpy as  np\n",
    "import tensorflow as tf\n",
    "\n",
    "# Specific to my computer\n",
    "physical_devices = tf.config.experimental.list_physical_devices('GPU')\n",
    "tf.config.experimental.set_memory_growth(physical_devices[0], True)"
   ]
  },
  {
   "cell_type": "code",
   "execution_count": 2,
   "metadata": {},
   "outputs": [],
   "source": [
    "def generator(input_dim = (100,), dim = 7, nchannels = 1,  dropout = 0.25, kshape = (5,5)):\n",
    "    random_input = tf.keras.layers.Input(input_dim)\n",
    "    x1 = tf.keras.layers.Dense(dim*dim*nchannels, activation = 'relu')(random_input)\n",
    "    x2 = tf.keras.layers.BatchNormalization(momentum = 0.9)(x1)\n",
    "    x3 = tf.keras.layers.Reshape((dim,dim,nchannels))(x2)\n",
    "    x4 = tf.keras.layers.Dropout(dropout)(x3)\n",
    "    x5 = tf.keras.layers.UpSampling2D((2,2))(x4)\n",
    "    x6 = tf.keras.layers.Conv2D(200, kshape, padding='same', activation = 'relu')(x5)\n",
    "    x7 = tf.keras.layers.BatchNormalization(momentum=0.9)(x6)\n",
    "    x8 = tf.keras.layers.Conv2D(200, kshape, padding='same', activation = 'relu')(x7)\n",
    "    x9 = tf.keras.layers.BatchNormalization(momentum=0.9)(x8)    \n",
    "    x10 = tf.keras.layers.UpSampling2D((2,2))(x9)\n",
    "    x11 = tf.keras.layers.Conv2D(100, kshape, padding='same', activation = 'relu')(x10)\n",
    "    x12 = tf.keras.layers.BatchNormalization(momentum=0.9)(x11)\n",
    "    x13 = tf.keras.layers.Conv2D(100, kshape, padding='same', activation = 'relu')(x12)\n",
    "    x14 = tf.keras.layers.BatchNormalization(momentum=0.9)(x13)\n",
    "    \n",
    "    x15 = tf.keras.layers.Conv2D(50, kshape, padding='same', activation = 'relu')(x14)\n",
    "    x16 = tf.keras.layers.BatchNormalization(momentum=0.9)(x15)\n",
    "    x17 = tf.keras.layers.Conv2D(30, kshape, padding='same', activation = 'relu')(x16)\n",
    "    x18 = tf.keras.layers.Conv2D(1, kshape, padding='same', activation = 'sigmoid')(x17)\n",
    "    model = tf.keras.models.Model(inputs=random_input, outputs=x18)\n",
    "    return model\n",
    "\n",
    "def discriminator(ishape = (28,28,1), dropout = 0.25, kshape = (3,3)):\n",
    "    model_input = tf.keras.layers.Input(shape = ishape)\n",
    "    x1 = tf.keras.layers.Conv2D(48, (3,3), padding='same', activation='relu')(model_input)\n",
    "    x2 = tf.keras.layers.Conv2D(48, (3,3), padding='same', activation='relu')(x1)\n",
    "    x3 = tf.keras.layers.Dropout(0.25)(x2)\n",
    "    x4 = tf.keras.layers.MaxPool2D((2,2))(x3)\n",
    "    x5 = tf.keras.layers.Conv2D(96, (3,3), padding='same', activation='relu')(x4)\n",
    "    x6 = tf.keras.layers.Conv2D(96, (3,3), padding='same', activation='relu')(x5)\n",
    "    x7 = tf.keras.layers.Dropout(0.25)(x6)\n",
    "    flat = tf.keras.layers.Flatten()(x7)\n",
    "    out = tf.keras.layers.Dense(1, activation = 'sigmoid')(flat)\n",
    "    \n",
    "    model = tf.keras.models.Model(inputs = model_input, outputs = out)\n",
    "    return model    "
   ]
  },
  {
   "cell_type": "code",
   "execution_count": 3,
   "metadata": {},
   "outputs": [
    {
     "name": "stderr",
     "output_type": "stream",
     "text": [
      "C:\\Users\\rober\\anaconda3\\envs\\enel645\\lib\\site-packages\\keras\\optimizer_v2\\rmsprop.py:130: UserWarning: The `lr` argument is deprecated, use `learning_rate` instead.\n",
      "  super(RMSprop, self).__init__(name, **kwargs)\n"
     ]
    }
   ],
   "source": [
    "# Defining the discriminator model\n",
    "optimizer_d = tf.keras.optimizers.RMSprop(lr = 0.0008, clipvalue = 1.0, decay = 6e-8)\n",
    "discriminator_model = discriminator()\n",
    "discriminator_model.compile(loss = \"binary_crossentropy\", optimizer = optimizer_d, metrics = [\"accuracy\"])"
   ]
  },
  {
   "cell_type": "code",
   "execution_count": 4,
   "metadata": {},
   "outputs": [],
   "source": [
    "optimizer_gan= tf.keras.optimizers.RMSprop(lr = 0.0004, clipvalue = 1.0, decay = 3e-8)\n",
    "generator_model = generator()\n",
    "random_input = tf.keras.layers.Input((100,))\n",
    "discriminator_model.trainable = False\n",
    "out = discriminator_model(generator_model(random_input))\n",
    "gan_model = tf.keras.models.Model(inputs = random_input, outputs = out)\n",
    "gan_model.compile(loss = \"binary_crossentropy\", optimizer = optimizer_gan, metrics = [\"accuracy\"])"
   ]
  },
  {
   "cell_type": "code",
   "execution_count": 5,
   "metadata": {},
   "outputs": [
    {
     "name": "stdout",
     "output_type": "stream",
     "text": [
      "Model: \"model_2\"\n",
      "_________________________________________________________________\n",
      " Layer (type)                Output Shape              Param #   \n",
      "=================================================================\n",
      " input_3 (InputLayer)        [(None, 100)]             0         \n",
      "                                                                 \n",
      " model_1 (Functional)        (None, 28, 28, 1)         1926676   \n",
      "                                                                 \n",
      " model (Functional)          (None, 1)                 164689    \n",
      "                                                                 \n",
      "=================================================================\n",
      "Total params: 2,091,365\n",
      "Trainable params: 1,925,278\n",
      "Non-trainable params: 166,087\n",
      "_________________________________________________________________\n"
     ]
    }
   ],
   "source": [
    "gan_model.summary()"
   ]
  },
  {
   "cell_type": "code",
   "execution_count": 6,
   "metadata": {},
   "outputs": [
    {
     "name": "stdout",
     "output_type": "stream",
     "text": [
      "Model: \"model_1\"\n",
      "_________________________________________________________________\n",
      " Layer (type)                Output Shape              Param #   \n",
      "=================================================================\n",
      " input_2 (InputLayer)        [(None, 100)]             0         \n",
      "                                                                 \n",
      " dense_1 (Dense)             (None, 49)                4949      \n",
      "                                                                 \n",
      " batch_normalization (BatchN  (None, 49)               196       \n",
      " ormalization)                                                   \n",
      "                                                                 \n",
      " reshape (Reshape)           (None, 7, 7, 1)           0         \n",
      "                                                                 \n",
      " dropout_2 (Dropout)         (None, 7, 7, 1)           0         \n",
      "                                                                 \n",
      " up_sampling2d (UpSampling2D  (None, 14, 14, 1)        0         \n",
      " )                                                               \n",
      "                                                                 \n",
      " conv2d_4 (Conv2D)           (None, 14, 14, 200)       5200      \n",
      "                                                                 \n",
      " batch_normalization_1 (Batc  (None, 14, 14, 200)      800       \n",
      " hNormalization)                                                 \n",
      "                                                                 \n",
      " conv2d_5 (Conv2D)           (None, 14, 14, 200)       1000200   \n",
      "                                                                 \n",
      " batch_normalization_2 (Batc  (None, 14, 14, 200)      800       \n",
      " hNormalization)                                                 \n",
      "                                                                 \n",
      " up_sampling2d_1 (UpSampling  (None, 28, 28, 200)      0         \n",
      " 2D)                                                             \n",
      "                                                                 \n",
      " conv2d_6 (Conv2D)           (None, 28, 28, 100)       500100    \n",
      "                                                                 \n",
      " batch_normalization_3 (Batc  (None, 28, 28, 100)      400       \n",
      " hNormalization)                                                 \n",
      "                                                                 \n",
      " conv2d_7 (Conv2D)           (None, 28, 28, 100)       250100    \n",
      "                                                                 \n",
      " batch_normalization_4 (Batc  (None, 28, 28, 100)      400       \n",
      " hNormalization)                                                 \n",
      "                                                                 \n",
      " conv2d_8 (Conv2D)           (None, 28, 28, 50)        125050    \n",
      "                                                                 \n",
      " batch_normalization_5 (Batc  (None, 28, 28, 50)       200       \n",
      " hNormalization)                                                 \n",
      "                                                                 \n",
      " conv2d_9 (Conv2D)           (None, 28, 28, 30)        37530     \n",
      "                                                                 \n",
      " conv2d_10 (Conv2D)          (None, 28, 28, 1)         751       \n",
      "                                                                 \n",
      "=================================================================\n",
      "Total params: 1,926,676\n",
      "Trainable params: 1,925,278\n",
      "Non-trainable params: 1,398\n",
      "_________________________________________________________________\n"
     ]
    }
   ],
   "source": [
    "generator_model.summary()"
   ]
  },
  {
   "cell_type": "code",
   "execution_count": 7,
   "metadata": {},
   "outputs": [
    {
     "name": "stdout",
     "output_type": "stream",
     "text": [
      "Model: \"model\"\n",
      "_________________________________________________________________\n",
      " Layer (type)                Output Shape              Param #   \n",
      "=================================================================\n",
      " input_1 (InputLayer)        [(None, 28, 28, 1)]       0         \n",
      "                                                                 \n",
      " conv2d (Conv2D)             (None, 28, 28, 48)        480       \n",
      "                                                                 \n",
      " conv2d_1 (Conv2D)           (None, 28, 28, 48)        20784     \n",
      "                                                                 \n",
      " dropout (Dropout)           (None, 28, 28, 48)        0         \n",
      "                                                                 \n",
      " max_pooling2d (MaxPooling2D  (None, 14, 14, 48)       0         \n",
      " )                                                               \n",
      "                                                                 \n",
      " conv2d_2 (Conv2D)           (None, 14, 14, 96)        41568     \n",
      "                                                                 \n",
      " conv2d_3 (Conv2D)           (None, 14, 14, 96)        83040     \n",
      "                                                                 \n",
      " dropout_1 (Dropout)         (None, 14, 14, 96)        0         \n",
      "                                                                 \n",
      " flatten (Flatten)           (None, 18816)             0         \n",
      "                                                                 \n",
      " dense (Dense)               (None, 1)                 18817     \n",
      "                                                                 \n",
      "=================================================================\n",
      "Total params: 164,689\n",
      "Trainable params: 0\n",
      "Non-trainable params: 164,689\n",
      "_________________________________________________________________\n"
     ]
    }
   ],
   "source": [
    "discriminator_model.summary()"
   ]
  },
  {
   "cell_type": "code",
   "execution_count": 8,
   "metadata": {},
   "outputs": [],
   "source": [
    "(X_dev,_),_ = tf.keras.datasets.mnist.load_data()\n",
    "indexes = np.arange(X_dev.shape[0], dtype = int)\n",
    "np.random.shuffle(indexes)\n",
    "X_dev = X_dev[indexes]\n",
    "X_dev = X_dev/255\n",
    "X_dev = X_dev[:,:,:,np.newaxis]\n",
    "batch_size = 96"
   ]
  },
  {
   "cell_type": "code",
   "execution_count": 9,
   "metadata": {},
   "outputs": [],
   "source": [
    "a_loss_history = []\n",
    "d_loss_history = []\n",
    "\n",
    "\n",
    "for ii in range(20):\n",
    "    true_images = X_dev[np.random.randint(0,X_dev.shape[0], size = batch_size)]\n",
    "    noise = np.random.uniform(-1,1, size = [batch_size, 100])\n",
    "    fake_images = generator_model.predict(noise)\n",
    "    x = np.concatenate((true_images,fake_images), axis = 0)\n",
    "    y = np.ones([2*batch_size,1])\n",
    "    y[batch_size:,:] = 0\n",
    "    discriminator_model.train_on_batch(x,y)\n",
    "for ii in range(20000):\n",
    "    true_images = X_dev[np.random.randint(0,X_dev.shape[0], size = batch_size)]\n",
    "    noise = np.random.uniform(-1,1, size = [batch_size, 100])\n",
    "    fake_images = generator_model.predict(noise)\n",
    "    x = np.concatenate((true_images,fake_images), axis = 0)\n",
    "    y = np.ones([2*batch_size,1])\n",
    "    y[batch_size:,:] = 0\n",
    "    d_loss_history.append(discriminator_model.train_on_batch(x,y))\n",
    "    y = np.ones([batch_size,1])\n",
    "    noise = np.random.uniform(-1,1, size = [batch_size, 100])\n",
    "    a_loss_history.append(gan_model.train_on_batch(noise,y))"
   ]
  },
  {
   "cell_type": "code",
   "execution_count": 10,
   "metadata": {},
   "outputs": [
    {
     "data": {
      "image/png": "[encoded data removed]",
      "text/plain": [
       "<Figure size 432x288 with 1 Axes>"
      ]
     },
     "metadata": {
      "needs_background": "light"
     },
     "output_type": "display_data"
    }
   ],
   "source": [
    "a_loss_history = np.array(a_loss_history)\n",
    "d_loss_history = np.array(d_loss_history)\n",
    "plt.plot()\n",
    "plt.plot(a_loss_history[:,1], label = \"GAN loss\")\n",
    "plt.plot(d_loss_history[:,1], label = \"Discriminator loss\")\n",
    "plt.legend()\n",
    "plt.show()"
   ]
  },
  {
   "cell_type": "code",
   "execution_count": 11,
   "metadata": {},
   "outputs": [
    {
     "data": {
      "image/png": "[encoded data removed]",
      "text/plain": [
       "<Figure size 432x288 with 1 Axes>"
      ]
     },
     "metadata": {
      "needs_background": "light"
     },
     "output_type": "display_data"
    },
    {
     "data": {
      "image/png": "[encoded data removed]",
      "text/plain": [
       "<Figure size 432x288 with 1 Axes>"
      ]
     },
     "metadata": {
      "needs_background": "light"
     },
     "output_type": "display_data"
    },
    {
     "data": {
      "image/png": "[encoded data removed]",
      "text/plain": [
       "<Figure size 432x288 with 1 Axes>"
      ]
     },
     "metadata": {
      "needs_background": "light"
     },
     "output_type": "display_data"
    },
    {
     "data": {
      "image/png": "[encoded data removed]",
      "text/plain": [
       "<Figure size 432x288 with 1 Axes>"
      ]
     },
     "metadata": {
      "needs_background": "light"
     },
     "output_type": "display_data"
    },
    {
     "data": {
      "image/png": "[encoded data removed]",
      "text/plain": [
       "<Figure size 432x288 with 1 Axes>"
      ]
     },
     "metadata": {
      "needs_background": "light"
     },
     "output_type": "display_data"
    },
    {
     "data": {
      "image/png": "[encoded data removed]",
      "text/plain": [
       "<Figure size 432x288 with 1 Axes>"
      ]
     },
     "metadata": {
      "needs_background": "light"
     },
     "output_type": "display_data"
    },
    {
     "data": {
      "image/png": "[encoded data removed]",
      "text/plain": [
       "<Figure size 432x288 with 1 Axes>"
      ]
     },
     "metadata": {
      "needs_background": "light"
     },
     "output_type": "display_data"
    },
    {
     "data": {
      "image/png": "[encoded data removed]",
      "text/plain": [
       "<Figure size 432x288 with 1 Axes>"
      ]
     },
     "metadata": {
      "needs_background": "light"
     },
     "output_type": "display_data"
    },
    {
     "data": {
      "image/png": "[encoded data removed]",
      "text/plain": [
       "<Figure size 432x288 with 1 Axes>"
      ]
     },
     "metadata": {
      "needs_background": "light"
     },
     "output_type": "display_data"
    },
    {
     "data": {
      "image/png": "[encoded data removed]",
      "text/plain": [
       "<Figure size 432x288 with 1 Axes>"
      ]
     },
     "metadata": {
      "needs_background": "light"
     },
     "output_type": "display_data"
    }
   ],
   "source": [
    "noise = np.random.uniform(-1,1, size = [10, 100])\n",
    "fake_images = generator_model.predict(noise)\n",
    "for ii in range(10):\n",
    "    plt.figure()\n",
    "    plt.imshow(fake_images[ii,:,:,0], cmap = \"gray\")\n",
    "    plt.show()"
   ]
  }
 ],
 "metadata": {
  "kernelspec": {
   "display_name": "Python 3 (ipykernel)",
   "language": "python",
   "name": "python3"
  },
  "language_info": {
   "codemirror_mode": {
    "name": "ipython",
    "version": 3
   },
   "file_extension": ".py",
   "mimetype": "text/x-python",
   "name": "python",
   "nbconvert_exporter": "python",
   "pygments_lexer": "ipython3",
   "version": "3.8.12"
  }
 },
 "nbformat": 4,
 "nbformat_minor": 4
}

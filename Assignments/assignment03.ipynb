{
 "cells": [
  {
   "cell_type": "markdown",
   "metadata": {
    "collapsed": true,
    "pycharm": {
     "name": "#%% md\n"
    }
   },
   "source": [
    "# Assignment 03\n",
    "\n",
    "There are three options for assignment #03:\n",
    "\n",
    "1. Building a classification model\n",
    "2. Implementing a domain adaptation method for an image classification problem\n",
    "3. Implementing a generative adversarial model/auto-encoder\n",
    "\n",
    "\n",
    "You are being assessed based on:\n",
    "- Code execution - 25%\n",
    "- Clarity of the code (e.g., easy to follow, has pertinent comments, etc.) - 25%\n",
    "- Proper usage of the techniques seen in class - 25%\n",
    "- Quality and correcteness of the results - 25%\n",
    "\n",
    "More details about the assessment are available in the rubric document in the class GitHub repository.\n",
    "\n",
    "\n",
    "## Option 01: Building a Classification Model\n",
    "\n",
    "The goal of this assignment is to build a classification model to distinguish between male/female classes or siemens/ge/philips scanners (choose one or propose a new dataset that is of more interest to you).\n",
    "\n",
    "For the classification model, you should employ 5-fold cross-validation. The data split and the data is provided to you at the following folder: \"ENEL645/Data/Assignment03-classification-model\" or you can download it from [here](https://drive.google.com/drive/folders/13gcCJC6H4ZtmVtPiXqIdHYC8jadF6Aug?usp=sharing).\n",
    "\n",
    "The deliverables for this assignment option are:\n",
    "\n",
    "- The code\n",
    "- Accuracy results (mean +/- standard-deviation)\n",
    "- Feature importance analysis\n",
    "\n",
    "You are free to choose the model you deem the most appropriate.\n",
    "\n",
    "## Option 02: Implementing a domain adaptation method for an image classification problem\n",
    "\n",
    "The goal of this assignment is for you to design an image classification model trained using mnist_data and tested using mnistm_data and compare the results of the model in two scenarios: 1. with no domain adaptation strategy or 2. employing an unsupervised domain adaptation strategy. The data is available [here](https://drive.google.com/drive/folders/1Rql7WguiVMO8AaGdMgvXeJneSa1QO0Sm?usp=sharing)\n",
    "\n",
    "The deliverables for this assignment option are:\n",
    "\n",
    "- The code\n",
    "- Accuracy results  for the source domain data and the target domain data with and without a domain adaptation strategy\n",
    "\n",
    "The suggestion is that you implement the following domain adaptation method:\n",
    "\n",
    "- [Ganin, Y., Ustinova, E., Ajakan, H., Germain, P., Larochelle, H., Laviolette, F., Marchand, M. and Lempitsky, V., 2016. Domain-adversarial training of neural networks. The journal of machine learning research, 17(1), pp.2096-2030.](https://www.jmlr.org/papers/volume17/15-239/15-239.pdf)\n",
    "-\n",
    "## Option 03: Implementing a generative adversarial model/auto-encoder\n",
    "\n",
    "The goal of this assignment is for you to document and explain any of the models explained between chapters 3 and 5 of the book:\n",
    "- Foster, D., 2019. Generative deep learning: teaching machines to paint, write, compose, and play. O'Reilly Media.\n",
    "\n",
    "The book is available to you through the University of Calgary library website. The code of the book is available in this GitHub repository. Your task is just to make sure the code is running properly, document and explain it. Think of this assignment as the creation of a tutorial for an undergraduate engineering student.\n",
    "\n",
    "The deliverable for this assignment is the documented Jupyter Notebook."
   ]
  },
  {
   "cell_type": "code",
   "execution_count": null,
   "outputs": [],
   "source": [],
   "metadata": {
    "collapsed": false,
    "pycharm": {
     "name": "#%%\n"
    }
   }
  }
 ],
 "metadata": {
  "kernelspec": {
   "display_name": "Python 3",
   "language": "python",
   "name": "python3"
  },
  "language_info": {
   "codemirror_mode": {
    "name": "ipython",
    "version": 2
   },
   "file_extension": ".py",
   "mimetype": "text/x-python",
   "name": "python",
   "nbconvert_exporter": "python",
   "pygments_lexer": "ipython2",
   "version": "2.7.6"
  }
 },
 "nbformat": 4,
 "nbformat_minor": 0
}
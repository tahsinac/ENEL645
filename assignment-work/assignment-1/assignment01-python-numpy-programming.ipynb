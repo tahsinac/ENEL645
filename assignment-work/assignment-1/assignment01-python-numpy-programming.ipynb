{
 "cells": [
  {
   "cell_type": "markdown",
   "metadata": {},
   "source": [
    "# Assignment #01\n",
    "\n",
    "This assignment is composed of multiple Python and NumPy programming exercises. The deliverable of this assignment is this Jupyter notebook completed with your solution.\n",
    "\n",
    "The delivery instructions are the following:\n",
    "    - Create a GitHub repository for your team. You are free to choose its name. This repository will be used to deliver the programming assignments and the code of your team's final project.\n",
    "    - Create a folder assignment-01 in the repository. Put the Jupyter notebook with your solution in this repository and post the repository link in your team's D2L dropbox for the assignment.\n",
    "\n",
    "You are being assessed based on:\n",
    "\n",
    "1. Code execution - 25% \n",
    "2. Clarity of the code (e.g., easy to follow, has pertinent comments, etc.) - 25%\n",
    "3. Proper usage of the techniques seen in class - 25%\n",
    "    - Remember to avoid explicit Python loops!  \n",
    "4. Quality and correctness of the results - 25%\n",
    "\n",
    "More details about the assessment are available in the rubric document in the class GitHub repository.\n",
    "\n",
    "Points distribution:\n",
    "- Question 2-21: 3 points per question \n",
    "- Questions 22-26: 8 points per question (total 40)\n",
    "- Total: 100 points"
   ]
  },
  {
   "cell_type": "code",
   "execution_count": 1,
   "metadata": {},
   "outputs": [],
   "source": [
    "import matplotlib.pylab as plt"
   ]
  },
  {
   "cell_type": "markdown",
   "metadata": {},
   "source": [
    "**1. Import the NumPy package under the name np**"
   ]
  },
  {
   "cell_type": "code",
   "execution_count": 2,
   "metadata": {},
   "outputs": [],
   "source": [
    "import numpy as np"
   ]
  },
  {
   "cell_type": "markdown",
   "metadata": {},
   "source": [
    "**2. Print the NumPy version and the configuration**"
   ]
  },
  {
   "cell_type": "code",
   "execution_count": 3,
   "metadata": {},
   "outputs": [
    {
     "name": "stdout",
     "output_type": "stream",
     "text": [
      "NumPy version: 1.21.2\n",
      "NumPy configuration:\n",
      "blas_mkl_info:\n",
      "    libraries = ['mkl_rt']\n",
      "    library_dirs = ['C:/Users/acsaeng/anaconda3/envs/enel645\\\\Library\\\\lib']\n",
      "    define_macros = [('SCIPY_MKL_H', None), ('HAVE_CBLAS', None)]\n",
      "    include_dirs = ['C:/Users/acsaeng/anaconda3/envs/enel645\\\\Library\\\\include']\n",
      "blas_opt_info:\n",
      "    libraries = ['mkl_rt']\n",
      "    library_dirs = ['C:/Users/acsaeng/anaconda3/envs/enel645\\\\Library\\\\lib']\n",
      "    define_macros = [('SCIPY_MKL_H', None), ('HAVE_CBLAS', None)]\n",
      "    include_dirs = ['C:/Users/acsaeng/anaconda3/envs/enel645\\\\Library\\\\include']\n",
      "lapack_mkl_info:\n",
      "    libraries = ['mkl_rt']\n",
      "    library_dirs = ['C:/Users/acsaeng/anaconda3/envs/enel645\\\\Library\\\\lib']\n",
      "    define_macros = [('SCIPY_MKL_H', None), ('HAVE_CBLAS', None)]\n",
      "    include_dirs = ['C:/Users/acsaeng/anaconda3/envs/enel645\\\\Library\\\\include']\n",
      "lapack_opt_info:\n",
      "    libraries = ['mkl_rt']\n",
      "    library_dirs = ['C:/Users/acsaeng/anaconda3/envs/enel645\\\\Library\\\\lib']\n",
      "    define_macros = [('SCIPY_MKL_H', None), ('HAVE_CBLAS', None)]\n",
      "    include_dirs = ['C:/Users/acsaeng/anaconda3/envs/enel645\\\\Library\\\\include']\n",
      "Supported SIMD extensions in this NumPy install:\n",
      "    baseline = SSE,SSE2,SSE3\n",
      "    found = SSSE3,SSE41,POPCNT,SSE42,AVX,F16C,FMA3,AVX2\n",
      "    not found = AVX512F,AVX512CD,AVX512_SKX,AVX512_CLX,AVX512_CNL\n",
      "None\n"
     ]
    }
   ],
   "source": [
    "# Print the NumPy version\n",
    "print(\"NumPy version:\", np.__version__)\n",
    "\n",
    "# Print the NumPy configuration\n",
    "print(\"NumPy configuration:\")\n",
    "print(np.__config__.show())"
   ]
  },
  {
   "cell_type": "markdown",
   "metadata": {},
   "source": [
    "**3. Create a 1D array of zeros of size 10 of type float32**"
   ]
  },
  {
   "cell_type": "code",
   "execution_count": 4,
   "metadata": {},
   "outputs": [
    {
     "name": "stdout",
     "output_type": "stream",
     "text": [
      "Array: [0. 0. 0. 0. 0. 0. 0. 0. 0. 0.]\n",
      "Array type: float32\n"
     ]
    }
   ],
   "source": [
    "# Generate array according to the specifications\n",
    "q3 = np.zeros((10), dtype='float32')\n",
    "\n",
    "# Print the array and type\n",
    "print(\"Array:\", q3)\n",
    "print(\"Array type:\", q3.dtype)"
   ]
  },
  {
   "cell_type": "markdown",
   "metadata": {},
   "source": [
    "**4. Print the memory size of the array below**"
   ]
  },
  {
   "cell_type": "code",
   "execution_count": 5,
   "metadata": {},
   "outputs": [
    {
     "name": "stdout",
     "output_type": "stream",
     "text": [
      "Array memory size: 3072 bytes\n"
     ]
    }
   ],
   "source": [
    "Z = np.zeros((32, 12))\n",
    "\n",
    "# Obtain the memory size of the array in bytes\n",
    "print(\"Array memory size: {} bytes\".format(Z.nbytes))"
   ]
  },
  {
   "cell_type": "markdown",
   "metadata": {},
   "source": [
    "**5. Create a 1D array with values ranging from 10 to 58**"
   ]
  },
  {
   "cell_type": "code",
   "execution_count": 6,
   "metadata": {},
   "outputs": [
    {
     "name": "stdout",
     "output_type": "stream",
     "text": [
      "1D array containing values [10, 58]:\n",
      " [10 11 12 13 14 15 16 17 18 19 20 21 22 23 24 25 26 27 28 29 30 31 32 33\n",
      " 34 35 36 37 38 39 40 41 42 43 44 45 46 47 48 49 50 51 52 53 54 55 56 57\n",
      " 58]\n"
     ]
    }
   ],
   "source": [
    "# Generate a 1D array containing values 10 to 58\n",
    "q5 = np.arange(10, 59)\n",
    "\n",
    "print(\"1D array containing values [10, 58]:\\n\", q5)"
   ]
  },
  {
   "cell_type": "markdown",
   "metadata": {},
   "source": [
    "**6. Reverse the order of the values in the vector (first element becomes last)**"
   ]
  },
  {
   "cell_type": "code",
   "execution_count": 7,
   "metadata": {},
   "outputs": [
    {
     "name": "stdout",
     "output_type": "stream",
     "text": [
      "Original array: [0 1 2 3 4 5 6 7 8 9]\n",
      "Reversed array: [9 8 7 6 5 4 3 2 1 0]\n"
     ]
    }
   ],
   "source": [
    "a = np.arange(10)\n",
    "\n",
    "# Reverse the order of the array (note that this is a shallow copy of a)\n",
    "a_reversed = a[::-1]\n",
    "\n",
    "print(\"Original array:\", a)\n",
    "print(\"Reversed array:\", a_reversed)"
   ]
  },
  {
   "cell_type": "markdown",
   "metadata": {},
   "source": [
    "**7. Create a 3x3 matrix with values ranging from 0 to 8**"
   ]
  },
  {
   "cell_type": "code",
   "execution_count": 8,
   "metadata": {},
   "outputs": [
    {
     "name": "stdout",
     "output_type": "stream",
     "text": [
      "3x3 matrix containing values [0, 8]:\n",
      " [[0 1 2]\n",
      " [3 4 5]\n",
      " [6 7 8]]\n"
     ]
    }
   ],
   "source": [
    "# Generate a 1D array with values of 0 to 8 and reshape it to be 3x3 \n",
    "q7 = np.arange(9).reshape(3, 3)\n",
    "\n",
    "print(\"3x3 matrix containing values [0, 8]:\\n\", q7)"
   ]
  },
  {
   "cell_type": "markdown",
   "metadata": {},
   "source": [
    "**8. Create a 3x3 identity matrix**"
   ]
  },
  {
   "cell_type": "code",
   "execution_count": 9,
   "metadata": {},
   "outputs": [
    {
     "name": "stdout",
     "output_type": "stream",
     "text": [
      "3x3 identity matrix:\n",
      " [[1. 0. 0.]\n",
      " [0. 1. 0.]\n",
      " [0. 0. 1.]]\n"
     ]
    }
   ],
   "source": [
    "# Generate a 3x3 identity matrix\n",
    "q8 = np.identity(3)\n",
    "\n",
    "print(\"3x3 identity matrix:\\n\", q8)"
   ]
  },
  {
   "cell_type": "markdown",
   "metadata": {},
   "source": [
    "**9. Find and print the maximum values of each column in the array below** "
   ]
  },
  {
   "cell_type": "code",
   "execution_count": 10,
   "metadata": {},
   "outputs": [
    {
     "name": "stdout",
     "output_type": "stream",
     "text": [
      "Original array:\n",
      " [[0.6085539  0.16877256 0.65474598 0.16608903 0.37086832 0.02288107\n",
      "  0.61047053 0.35762653 0.18519368 0.1970738  0.97047769]\n",
      " [0.22149526 0.31430767 0.96515743 0.45670091 0.5334264  0.07559348\n",
      "  0.44439853 0.5345741  0.68404805 0.02478918 0.00257755]\n",
      " [0.65716412 0.16922134 0.35832348 0.19173976 0.53158575 0.65014725\n",
      "  0.88195639 0.46738689 0.46390155 0.94575787 0.13582709]\n",
      " [0.5818064  0.71321371 0.41999779 0.46539198 0.61138737 0.13442247\n",
      "  0.98682939 0.5718868  0.20303664 0.99722982 0.2971777 ]\n",
      " [0.97399823 0.08096871 0.29902051 0.65217104 0.63678756 0.02689041\n",
      "  0.28324335 0.53657385 0.65058885 0.50024537 0.72614684]\n",
      " [0.09081648 0.87124171 0.61228228 0.23284458 0.50456089 0.56084297\n",
      "  0.74581867 0.85539636 0.67340855 0.58283665 0.71151879]\n",
      " [0.25322862 0.51653646 0.54031969 0.58846922 0.01044591 0.53669965\n",
      "  0.2419904  0.27093282 0.74894751 0.16185221 0.25438799]\n",
      " [0.34464914 0.39976642 0.33405897 0.30293331 0.86738683 0.57874171\n",
      "  0.07994276 0.53772479 0.69593779 0.72924253 0.05064787]\n",
      " [0.19943127 0.07909069 0.65313836 0.97564152 0.84788931 0.50473706\n",
      "  0.38661726 0.76040943 0.72224294 0.3722315  0.1934027 ]\n",
      " [0.86436195 0.41376884 0.21376709 0.27497512 0.28415418 0.37295402\n",
      "  0.22150826 0.51579715 0.19660211 0.21059843 0.57682967]]\n",
      "\n",
      "Maximum value of each column:\n",
      " [0.97399823 0.87124171 0.96515743 0.97564152 0.86738683 0.65014725\n",
      " 0.98682939 0.85539636 0.74894751 0.99722982 0.97047769]\n"
     ]
    }
   ],
   "source": [
    "Z = np.random.random((10, 11))\n",
    "\n",
    "# Obtain the maximum value of each column\n",
    "Z_max_col = Z.max(axis=0)\n",
    "\n",
    "print(\"Original array:\\n\", Z)\n",
    "print(\"\\nMaximum value of each column:\\n\", Z_max_col)"
   ]
  },
  {
   "cell_type": "markdown",
   "metadata": {},
   "source": [
    "**10. Create a $7 \\times 7$ array with 1s on the borders (first row and column, last row and column) and 0s everywhere else**"
   ]
  },
  {
   "cell_type": "code",
   "execution_count": 11,
   "metadata": {},
   "outputs": [
    {
     "name": "stdout",
     "output_type": "stream",
     "text": [
      "7x7 array with ones on the border and zeros everywhere else:\n",
      " [[1. 1. 1. 1. 1. 1. 1.]\n",
      " [1. 0. 0. 0. 0. 0. 1.]\n",
      " [1. 0. 0. 0. 0. 0. 1.]\n",
      " [1. 0. 0. 0. 0. 0. 1.]\n",
      " [1. 0. 0. 0. 0. 0. 1.]\n",
      " [1. 0. 0. 0. 0. 0. 1.]\n",
      " [1. 1. 1. 1. 1. 1. 1.]]\n"
     ]
    }
   ],
   "source": [
    "# Generate a 7x7 matrix of ones\n",
    "q10 = np.ones((7, 7))\n",
    "\n",
    "# Fill the inner elements with zeros by specifying the proper indices\n",
    "q10[1:-1, 1:-1] = 0\n",
    "\n",
    "print(\"7x7 array with ones on the border and zeros everywhere else:\\n\", q10)"
   ]
  },
  {
   "cell_type": "markdown",
   "metadata": {},
   "source": [
    "**11. Pad the existing array below with zeros (i.e., add additional rows and columns with zeros). Use the NumPy pad function.**"
   ]
  },
  {
   "cell_type": "code",
   "execution_count": 12,
   "metadata": {},
   "outputs": [
    {
     "name": "stdout",
     "output_type": "stream",
     "text": [
      "Original array:\n",
      " [[1. 1. 1. 1. 1.]\n",
      " [1. 1. 1. 1. 1.]\n",
      " [1. 1. 1. 1. 1.]\n",
      " [1. 1. 1. 1. 1.]\n",
      " [1. 1. 1. 1. 1.]]\n",
      "\n",
      "Padded array:\n",
      " [[0. 0. 0. 0. 0. 0. 0.]\n",
      " [0. 1. 1. 1. 1. 1. 0.]\n",
      " [0. 1. 1. 1. 1. 1. 0.]\n",
      " [0. 1. 1. 1. 1. 1. 0.]\n",
      " [0. 1. 1. 1. 1. 1. 0.]\n",
      " [0. 1. 1. 1. 1. 1. 0.]\n",
      " [0. 0. 0. 0. 0. 0. 0.]]\n"
     ]
    }
   ],
   "source": [
    "Z = np.ones((5, 5))\n",
    "\n",
    "# Pad the array with zeros\n",
    "Z_padded = np.pad(Z, 1)\n",
    "\n",
    "print(\"Original array:\\n\", Z)\n",
    "print(\"\\nPadded array:\\n\", Z_padded)"
   ]
  },
  {
   "cell_type": "markdown",
   "metadata": {},
   "source": [
    "**12. Extract the integer part of the random array of positive numbers below**"
   ]
  },
  {
   "cell_type": "code",
   "execution_count": 13,
   "metadata": {},
   "outputs": [
    {
     "name": "stdout",
     "output_type": "stream",
     "text": [
      "Original array:\n",
      " [0.70441042 4.85326101 6.60407452 8.14336174 8.09835766 3.15136305\n",
      " 1.33262664 6.50728103 1.65589267 0.75152455]\n",
      "\n",
      "Integer array:\n",
      " [0 4 6 8 8 3 1 6 1 0]\n"
     ]
    }
   ],
   "source": [
    "Z = np.random.uniform(0, 10, 10)\n",
    "\n",
    "# Take the integer part of each element in the array\n",
    "Z_int = Z.astype(int)\n",
    "\n",
    "print(\"Original array:\\n\", Z)\n",
    "print(\"\\nInteger array:\\n\", Z_int)"
   ]
  },
  {
   "cell_type": "markdown",
   "metadata": {},
   "source": [
    "**13. Create a 5x5 matrix with rows with equal values ranging from 0 to 4 (i.e., [0, 1, 2, 3, 4])**\n",
    "\n",
    "*Hint:* consider using NumPy broadcasting or the tile function*"
   ]
  },
  {
   "cell_type": "code",
   "execution_count": 14,
   "metadata": {},
   "outputs": [
    {
     "name": "stdout",
     "output_type": "stream",
     "text": [
      "5x5 matrix with rows containing values [0, 4]:\n",
      " [[0 1 2 3 4]\n",
      " [0 1 2 3 4]\n",
      " [0 1 2 3 4]\n",
      " [0 1 2 3 4]\n",
      " [0 1 2 3 4]]\n"
     ]
    }
   ],
   "source": [
    "# Generate an array with rows containing values ranging from 0 to 4\n",
    "q13 = np.tile([0, 1, 2, 3, 4], (5, 1))\n",
    "\n",
    "print(\"5x5 matrix with rows containing values [0, 4]:\\n\", q13)"
   ]
  },
  {
   "cell_type": "markdown",
   "metadata": {},
   "source": [
    "**14. Create a vector of size 10 with values ranging from 0 to 1 (0 and 1 not included)**\n",
    "\n",
    "*Hint: Consider using the linspace function*"
   ]
  },
  {
   "cell_type": "code",
   "execution_count": 15,
   "metadata": {},
   "outputs": [
    {
     "name": "stdout",
     "output_type": "stream",
     "text": [
      "Array of size 10 containing values (0, 1):\n",
      " [0.09090909 0.18181818 0.27272727 0.36363636 0.45454545 0.54545455\n",
      " 0.63636364 0.72727273 0.81818182 0.90909091]\n"
     ]
    }
   ],
   "source": [
    "# Generate an array ranging from 0 to 1, slicing the array to exclude 0 and setting the linspace() 'endpoint' argument to 'False' to exclude 1\n",
    "q14 = np.linspace(0, 1, 11, endpoint=False)[1:]\n",
    "\n",
    "print(\"Array of size 10 containing values (0, 1):\\n\", q14)"
   ]
  },
  {
   "cell_type": "markdown",
   "metadata": {},
   "source": [
    "**15. Create a random vector of size 10 and sort it**"
   ]
  },
  {
   "cell_type": "code",
   "execution_count": 16,
   "metadata": {},
   "outputs": [
    {
     "name": "stdout",
     "output_type": "stream",
     "text": [
      "Random array:\n",
      " [0.10304185 0.31192906 0.98052327 0.210552   0.75933855 0.07734017\n",
      " 0.5483229  0.36043929 0.18970941 0.31065118]\n",
      "\n",
      "Sorted array:\n",
      " [0.07734017 0.10304185 0.18970941 0.210552   0.31065118 0.31192906\n",
      " 0.36043929 0.5483229  0.75933855 0.98052327]\n"
     ]
    }
   ],
   "source": [
    "# Generate randomized array of size 10\n",
    "q15_random = np.random.rand(10)\n",
    "\n",
    "# Sort the randomized array\n",
    "q15_sorted = np.sort(q15_random)\n",
    "\n",
    "print(\"Random array:\\n\", q15_random)\n",
    "print(\"\\nSorted array:\\n\", q15_sorted)"
   ]
  },
  {
   "cell_type": "markdown",
   "metadata": {},
   "source": [
    "**16. Consider the cartesian coordinates below (X and Y), convert them to polar coordinates (R and T)**"
   ]
  },
  {
   "cell_type": "code",
   "execution_count": 17,
   "metadata": {},
   "outputs": [
    {
     "name": "stdout",
     "output_type": "stream",
     "text": [
      "Cartesian coordinates:\n",
      "X = [0.37786275 0.26868321 0.79873419 0.47108763 0.1465277  0.69956593\n",
      " 0.10425481 0.34758309 0.32898332 0.42987614]\n",
      "Y = [0.45131917 0.79232694 0.20061359 0.09585115 0.95392013 0.52193815\n",
      " 0.4709954  0.97097498 0.01614406 0.98845363]\n",
      "\n",
      "Polar coordinates:\n",
      "R = [0.58861639 0.83664368 0.82354242 0.48074005 0.96510827 0.87281838\n",
      " 0.48239582 1.03131296 0.32937919 1.07788407]\n",
      "T (radians) = [0.87375652 1.24385895 0.24607426 0.20072773 1.41838177 0.64099309\n",
      " 1.35295874 1.2270361  0.04903326 1.16057226]\n"
     ]
    }
   ],
   "source": [
    "Z = np.random.random((10, 2))\n",
    "X, Y = Z[:, 0], Z[:, 1]\n",
    "\n",
    "# Convert Cartesian coordinates to polar coordinates using the corresponding formula for the radius (R) and angle (T)\n",
    "R = np.sqrt(X ** 2 + Y ** 2)\n",
    "T = np.arctan2(Y, X)\n",
    "\n",
    "print(\"Cartesian coordinates:\")\n",
    "print(\"X =\", X)\n",
    "print(\"Y =\", Y)\n",
    "\n",
    "print(\"\\nPolar coordinates:\")\n",
    "print(\"R =\", R)\n",
    "print(\"T (radians) =\", T)"
   ]
  },
  {
   "cell_type": "markdown",
   "metadata": {},
   "source": [
    "**17. Create random vector of size 10 and replace the maximum value by 0**"
   ]
  },
  {
   "cell_type": "code",
   "execution_count": 18,
   "metadata": {},
   "outputs": [
    {
     "name": "stdout",
     "output_type": "stream",
     "text": [
      "Randomized array:\n",
      " [0.57792788 0.54674015 0.29617061 0.59924802 0.6852717  0.84737626\n",
      " 0.18158053 0.76292643 0.36080827 0.33783144]\n",
      "\n",
      "Max value replaced array:\n",
      " [0.57792788 0.54674015 0.29617061 0.59924802 0.6852717  0.\n",
      " 0.18158053 0.76292643 0.36080827 0.33783144]\n"
     ]
    }
   ],
   "source": [
    "# Generate randomized array of size 10\n",
    "q17_random = np.random.rand(10)\n",
    "\n",
    "# Replace maximum value with 0 using a boolean mask\n",
    "q17_max_replaced = q17_random.copy()\n",
    "q17_max_replaced[q17_random.argmax()] = 0\n",
    "\n",
    "print(\"Randomized array:\\n\", q17_random)\n",
    "print(\"\\nMax value replaced array:\\n\", q17_max_replaced)"
   ]
  },
  {
   "cell_type": "markdown",
   "metadata": {},
   "source": [
    "**18. Find the nearest value from a given value (z) in an array (Z)**"
   ]
  },
  {
   "cell_type": "code",
   "execution_count": 19,
   "metadata": {},
   "outputs": [
    {
     "name": "stdout",
     "output_type": "stream",
     "text": [
      "Original array:\n",
      " [0.41441866 0.42886834 0.65182931 0.28571024 0.38978377 0.32253763\n",
      " 0.198041   0.34799213 0.53724715 0.1298294 ]\n",
      "Value of z: 0.5\n",
      "Nearest value to z: 0.5372471452760486\n"
     ]
    }
   ],
   "source": [
    "Z = np.random.uniform(0, 1, 10)\n",
    "z = 0.5\n",
    "\n",
    "# Retrive the nearest value by obtaining the index of the element in Z with the smallest difference to z\n",
    "q18 = Z[np.abs(Z - z).argmin()]\n",
    "\n",
    "print(\"Original array:\\n\", Z)\n",
    "print(\"Value of z:\", z)\n",
    "print(\"Nearest value to z:\", q18)"
   ]
  },
  {
   "cell_type": "markdown",
   "metadata": {},
   "source": [
    "**19. Consider the vector [5, 4, 3, 2, 1], how to build a new vector with 3 consecutive zeros interleaved between each value?**"
   ]
  },
  {
   "cell_type": "code",
   "execution_count": 20,
   "metadata": {},
   "outputs": [
    {
     "name": "stdout",
     "output_type": "stream",
     "text": [
      "Original array: [5 4 3 2 1]\n",
      "Interleaved array: [5 0 0 0 4 0 0 0 3 0 0 0 2 0 0 0 1]\n"
     ]
    }
   ],
   "source": [
    "Z = np.arange(6)[:0:-1]\n",
    "\n",
    "# Generate a zeros array of appropriate length\n",
    "Z_interleaved = np.zeros(4 * ((len(Z) - 1)) + 1, dtype=int)\n",
    "\n",
    "# Replace every fourth element with an element in Z\n",
    "Z_interleaved[::4] = Z\n",
    "\n",
    "print(\"Original array:\", Z)\n",
    "print(\"Interleaved array:\", Z_interleaved)"
   ]
  },
  {
   "cell_type": "markdown",
   "metadata": {},
   "source": [
    "**20. Consider an array of dimension (5, 5, 3), how to mulitply it element-wise by an array with dimensions (5, 5) - i.e., (5, 5, 0)$\\times$(5, 5), (5, 5, 1)$\\times$(5, 5), (5, 5, 2)$\\times$(5, 5)**"
   ]
  },
  {
   "cell_type": "code",
   "execution_count": 21,
   "metadata": {},
   "outputs": [
    {
     "name": "stdout",
     "output_type": "stream",
     "text": [
      "Element-wise product:\n",
      " [[[2. 2. 2.]\n",
      "  [2. 2. 2.]\n",
      "  [2. 2. 2.]\n",
      "  [2. 2. 2.]\n",
      "  [2. 2. 2.]]\n",
      "\n",
      " [[2. 2. 2.]\n",
      "  [2. 2. 2.]\n",
      "  [2. 2. 2.]\n",
      "  [2. 2. 2.]\n",
      "  [2. 2. 2.]]\n",
      "\n",
      " [[2. 2. 2.]\n",
      "  [2. 2. 2.]\n",
      "  [2. 2. 2.]\n",
      "  [2. 2. 2.]\n",
      "  [2. 2. 2.]]\n",
      "\n",
      " [[2. 2. 2.]\n",
      "  [2. 2. 2.]\n",
      "  [2. 2. 2.]\n",
      "  [2. 2. 2.]\n",
      "  [2. 2. 2.]]\n",
      "\n",
      " [[2. 2. 2.]\n",
      "  [2. 2. 2.]\n",
      "  [2. 2. 2.]\n",
      "  [2. 2. 2.]\n",
      "  [2. 2. 2.]]]\n",
      "\n",
      "Shape of result: (5, 5, 3)\n"
     ]
    }
   ],
   "source": [
    "A = np.ones((5, 5, 3))\n",
    "B = 2 * np.ones((5, 5))\n",
    "\n",
    "# Add third dimension to B and multiply with A\n",
    "q20 = np.multiply(A, B.reshape(5, 5, 1))\n",
    "\n",
    "print(\"Element-wise product:\\n\", q20)\n",
    "print(\"\\nShape of result:\", q20.shape)"
   ]
  },
  {
   "cell_type": "markdown",
   "metadata": {},
   "source": [
    "**21. Swap the first and second rows of the 2D array below**"
   ]
  },
  {
   "cell_type": "code",
   "execution_count": 22,
   "metadata": {},
   "outputs": [
    {
     "name": "stdout",
     "output_type": "stream",
     "text": [
      "Original array:\n",
      " [[ 0  1  2  3  4]\n",
      " [ 5  6  7  8  9]\n",
      " [10 11 12 13 14]\n",
      " [15 16 17 18 19]\n",
      " [20 21 22 23 24]\n",
      " [25 26 27 28 29]]\n",
      "\n",
      "Array with swapped rows:\n",
      " [[ 5  6  7  8  9]\n",
      " [ 0  1  2  3  4]\n",
      " [10 11 12 13 14]\n",
      " [15 16 17 18 19]\n",
      " [20 21 22 23 24]\n",
      " [25 26 27 28 29]]\n"
     ]
    }
   ],
   "source": [
    "W = np.arange(30).reshape(6, 5)\n",
    "print(\"Original array:\\n\", W)\n",
    "print()\n",
    "\n",
    "# Use advanced slicing to swap rows\n",
    "W[[0, 1], :] = W[[1, 0], :]\n",
    "\n",
    "print(\"Array with swapped rows:\\n\", W)"
   ]
  },
  {
   "cell_type": "markdown",
   "metadata": {},
   "source": [
    "**22. Write a function that receives as input a 2D Boolean NumPy array and outputs the coordinates of the minimal bounding box\n",
    "that encloses all non-zero elements in the input array**\n",
    "\n",
    "**Tip:** Search for the functions non-zero and where in the NumPy documentation.\n",
    "\n",
    "<img src=\"./bbox.png\" width=\"150\" /> "
   ]
  },
  {
   "cell_type": "code",
   "execution_count": 23,
   "metadata": {},
   "outputs": [
    {
     "name": "stdout",
     "output_type": "stream",
     "text": [
      "Minimum bounding box: ((29, 50), (342, 431))\n"
     ]
    }
   ],
   "source": [
    "def bbox(img):\n",
    "    # Obtain the row and column indices of the non-zero elements as a tuple\n",
    "    bb_idx = np.nonzero(img)\n",
    "\n",
    "    # Retrieve the minimum and maximum row/column indices to get the minimum bounding-box\n",
    "    r1 = bb_idx[0].min()\n",
    "    c1 = bb_idx[1].min()\n",
    "    r2 = bb_idx[0].max()\n",
    "    c2 = bb_idx[1].max()\n",
    "    \n",
    "    return (r1, c1), (r2, c2)\n",
    "\n",
    "\n",
    "from PIL import Image\n",
    "\n",
    "img = np.array(Image.open('./bin_image.png').convert('L')) > 0\n",
    "print(\"Minimum bounding box:\", bbox(img))"
   ]
  },
  {
   "cell_type": "markdown",
   "metadata": {},
   "source": [
    "**23. Write a function to compute the average over a sliding window of length N over a 1D array**\n",
    "\n",
    "*Example:* [1, 2, 3, 4, 5, 6, 7, 8, 9], N = 3 -> [2, 5, 8]"
   ]
  },
  {
   "cell_type": "code",
   "execution_count": 26,
   "metadata": {},
   "outputs": [
    {
     "name": "stdout",
     "output_type": "stream",
     "text": [
      "Original array:\n",
      " [ 0  1  2  3  4  5  6  7  8  9 10 11 12 13 14 15 16 17 18 19 20 21 22 23\n",
      " 24 25 26 27 28 29]\n",
      "\n",
      "Sliding window moving average:\n",
      " [ 1.  4.  7. 10. 13. 16. 19. 22. 25. 28.]\n"
     ]
    }
   ],
   "source": [
    "def moving_average(x, N=3):\n",
    "    # Pad array with zeros if the size of array x is not a multiple of N\n",
    "    if x.size % N != 0:\n",
    "        x = np.pad(x, (0, x.size % N))\n",
    "    \n",
    "    # Reshape the array to be 2D where each row has N elements and calculate the average of each\n",
    "    x = x.reshape(int(x.size / N), N)\n",
    "    x = x.sum(axis=1) / N\n",
    "\n",
    "    # Flatten back to a 1D array\n",
    "    x = x.flatten()\n",
    "\n",
    "    return x\n",
    "\n",
    "\n",
    "a = np.arange(30)\n",
    "N = 3\n",
    "print(\"Original array:\\n\", a)\n",
    "print(\"\\nSliding window moving average:\\n\", moving_average(a, N))"
   ]
  },
  {
   "cell_type": "markdown",
   "metadata": {},
   "source": [
    "**24.  Given a sorted 1D array C that corresponds to a bincount, how to produce an array A such that np.bincount(A) == C?**\n",
    "\n",
    "*Example:* C = [3, 2, 4] -> D = [0, 0, 0, 1, 1, 2, 2, 2, 2]\n",
    "\n",
    "*Tip:* Consider using the NumPy repeat function"
   ]
  },
  {
   "cell_type": "code",
   "execution_count": 28,
   "metadata": {},
   "outputs": [
    {
     "name": "stdout",
     "output_type": "stream",
     "text": [
      "bincount array C = [0 2 1 1 2 0 1]\n",
      "\n",
      "Inverse bincount array A = [1 1 2 3 4 4 6]\n",
      "bincount verification: [0 2 1 1 2 0 1]\n"
     ]
    }
   ],
   "source": [
    "C = np.bincount([1, 1, 2, 3, 4, 4, 6])\n",
    "print(\"bincount array C =\", C)\n",
    "\n",
    "# Repeat the elements in A using the values of C\n",
    "A = np.repeat(np.arange(C.size), C)\n",
    "\n",
    "print(\"\\nInverse bincount array A =\", A)\n",
    "print(\"bincount verification:\", np.bincount(A))"
   ]
  },
  {
   "cell_type": "markdown",
   "metadata": {},
   "source": [
    "**25. Find the most frequent value in the array below?**"
   ]
  },
  {
   "cell_type": "code",
   "execution_count": 33,
   "metadata": {},
   "outputs": [
    {
     "name": "stdout",
     "output_type": "stream",
     "text": [
      "Original array:\n",
      " [7 0 0 5 1 1 2 6 5 0 6 9 9 2 5 8 2 9 4 8 7 5 8 9 0 3 2 1 7 2 4 9 6 5 9 6 0\n",
      " 5 7 3 2 5 5 9 3 8 1 5 3 1]\n",
      "Array value counts: [5 5 6 4 2 9 4 4 4 7]\n",
      "Most frequent array value: 5\n"
     ]
    }
   ],
   "source": [
    "Z = np.random.randint(0, 10, 50)\n",
    "\n",
    "# Record the instances of each number in the array\n",
    "Z_counts = np.bincount(Z)\n",
    "\n",
    "# Retrive the number with the maximum number of instances\n",
    "Z_max = np.argmax(Z_counts)\n",
    "\n",
    "print(\"Original array:\\n\", Z)\n",
    "print(\"Array value counts:\", Z_counts)\n",
    "print(\"Most frequent array value:\", Z_max)"
   ]
  },
  {
   "cell_type": "markdown",
   "metadata": {},
   "source": [
    "**26. Write a function to return the n largest values of an array** "
   ]
  },
  {
   "cell_type": "code",
   "execution_count": 30,
   "metadata": {},
   "outputs": [
    {
     "name": "stdout",
     "output_type": "stream",
     "text": [
      "n largest values of the array: [9999 9998 9997 9996 9995]\n"
     ]
    }
   ],
   "source": [
    "def nlargest(a, n=5):\n",
    "    # Sort the array in ascending order\n",
    "    a.sort()\n",
    "\n",
    "    # Reverse array to descending order and return the first n elements\n",
    "    return a[::-1][0:n]\n",
    "\n",
    "\n",
    "Z = np.arange(10000)\n",
    "np.random.shuffle(Z)\n",
    "n = 5\n",
    "print(\"n largest values of the array:\", nlargest(Z, n))    "
   ]
  },
  {
   "cell_type": "markdown",
   "id": "c51cf120",
   "metadata": {},
   "source": [
    "## Team Contributions\n",
    "\n",
    "All team members worked on the Assignment 1 Jupyter notebook individually and met together to discuss and choose the best answer for each question.\n",
    "\n",
    "| Team Member      | Consensus Score |\n",
    "| ---------------- | --------------- |\n",
    "| Brandon Attai    | 3               |\n",
    "| Tahsin Chowdhury | 3               |\n",
    "| Kelten Falez     | 3               |\n",
    "| Timothy Mok      | 3               |\n",
    "| Aron Saengchan   | 3               |\n",
    "| Yong Jun Zhu     | 3               |"
   ]
  }
 ],
 "metadata": {
  "kernelspec": {
   "display_name": "Python 3",
   "language": "python",
   "name": "python3"
  },
  "language_info": {
   "codemirror_mode": {
    "name": "ipython",
    "version": 3
   },
   "file_extension": ".py",
   "mimetype": "text/x-python",
   "name": "python",
   "nbconvert_exporter": "python",
   "pygments_lexer": "ipython3",
   "version": "3.9.7"
  }
 },
 "nbformat": 4,
 "nbformat_minor": 5
}
